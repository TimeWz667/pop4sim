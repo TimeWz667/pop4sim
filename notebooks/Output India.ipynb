{
 "cells": [
  {
   "cell_type": "code",
   "execution_count": 1,
   "id": "7bad09be-1411-4377-aac4-19a405304040",
   "metadata": {
    "tags": []
   },
   "outputs": [],
   "source": [
    "from pop4sim import fetch_wpp, Demography, ModelODE, reform_pars_age\n",
    "from pop4sim.utils import *\n",
    "import numpy as np\n",
    "from scipy.integrate import solve_ivp\n",
    "import matplotlib.pyplot as plt"
   ]
  },
  {
   "cell_type": "code",
   "execution_count": 2,
   "id": "d901ecf4-334b-4e8e-b4b1-1c2304ca9a4e",
   "metadata": {
    "tags": []
   },
   "outputs": [
    {
     "name": "stdout",
     "output_type": "stream",
     "text": [
      "Fetch population size\n"
     ]
    },
    {
     "name": "stderr",
     "output_type": "stream",
     "text": [
      "100%|██████████| 17.0/17 [00:18<00:00,  1.08s/it]\n"
     ]
    },
    {
     "name": "stdout",
     "output_type": "stream",
     "text": [
      "Fetch deaths\n"
     ]
    },
    {
     "name": "stderr",
     "output_type": "stream",
     "text": [
      "100%|██████████| 17.0/17 [00:12<00:00,  1.31it/s]\n"
     ]
    },
    {
     "name": "stdout",
     "output_type": "stream",
     "text": [
      "Fetch birth rate\n"
     ]
    },
    {
     "name": "stderr",
     "output_type": "stream",
     "text": [
      "100%|██████████| 17.0/17 [00:00<00:00, 282949.08it/s]"
     ]
    },
    {
     "name": "stdout",
     "output_type": "stream",
     "text": [
      "Fetch sex ratio at birth\n"
     ]
    },
    {
     "name": "stderr",
     "output_type": "stream",
     "text": [
      "\n",
      "100%|██████████| 17.0/17 [00:00<00:00, 293428.67it/s]\n"
     ]
    }
   ],
   "source": [
    "ext = fetch_wpp(loc='IN', year0=1970, year1=2035)"
   ]
  },
  {
   "cell_type": "code",
   "execution_count": 4,
   "id": "c9077b1d-abce-49ba-8a13-6d196cac190d",
   "metadata": {
    "tags": []
   },
   "outputs": [],
   "source": [
    "demo = reform_pars_age(ext, sex=True, agp='All', mig=False)\n",
    "with open('ind_who_70to35.pkl', 'wb') as f:\n",
    "    pkl.dump(demo.Source, f)"
   ]
  },
  {
   "cell_type": "code",
   "execution_count": 5,
   "id": "1c123d0f-3241-43e0-957a-4942c4cece64",
   "metadata": {
    "tags": []
   },
   "outputs": [
    {
     "data": {
      "text/plain": [
       "{'N': array([1.31859910e+08, 2.51020801e+08, 2.25265108e+08, 1.81674144e+08,\n",
       "        1.43582360e+08, 1.08507781e+08, 6.55164650e+07, 5.60797330e+07]),\n",
       " 'r_birth': array(0.02358),\n",
       " 'r_ageing': array([0.19975132, 0.09635655, 0.09159708, 0.09016331, 0.08951621,\n",
       "        0.08367411, 0.07800854, 0.        ]),\n",
       " 'r_death': array([0.0152685 , 0.0012799 , 0.00175439, 0.00244046, 0.00347808,\n",
       "        0.00749089, 0.01653492, 0.06276017]),\n",
       " 'r_mig': array([-0.06529316,  0.07381014,  0.13559836,  0.19785606,  0.20173676,\n",
       "         0.27191783,  0.42314188,  0.26297736])}"
      ]
     },
     "execution_count": 5,
     "metadata": {},
     "output_type": "execute_result"
    }
   ],
   "source": [
    "demo(2006, demo(2005.8)['N'])"
   ]
  },
  {
   "cell_type": "code",
   "execution_count": 6,
   "id": "a0e3e81b-05d3-4d45-bab0-8d88d97f1b27",
   "metadata": {
    "tags": []
   },
   "outputs": [],
   "source": [
    "demo = reform_pars_all(ext, mig=True)\n",
    "with open('ind_all_70to35.pkl', 'wb') as f:\n",
    "    pkl.dump(demo.Source, f)"
   ]
  }
 ],
 "metadata": {
  "kernelspec": {
   "display_name": "Python 3 (ipykernel)",
   "language": "python",
   "name": "python3"
  },
  "language_info": {
   "codemirror_mode": {
    "name": "ipython",
    "version": 3
   },
   "file_extension": ".py",
   "mimetype": "text/x-python",
   "name": "python",
   "nbconvert_exporter": "python",
   "pygments_lexer": "ipython3",
   "version": "3.10.9"
  }
 },
 "nbformat": 4,
 "nbformat_minor": 5
}
