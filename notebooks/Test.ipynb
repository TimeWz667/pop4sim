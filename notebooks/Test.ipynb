{
 "cells": [
  {
   "cell_type": "code",
   "execution_count": 1,
   "id": "7bad09be-1411-4377-aac4-19a405304040",
   "metadata": {
    "tags": []
   },
   "outputs": [],
   "source": [
    "from pop4sim import fetch_wpp, Demography, ModelODE, reform_pars_age\n",
    "from pop4sim.utils import *\n",
    "import numpy as np\n",
    "from scipy.integrate import solve_ivp\n",
    "import matplotlib.pyplot as plt"
   ]
  },
  {
   "cell_type": "code",
   "execution_count": 17,
   "id": "d901ecf4-334b-4e8e-b4b1-1c2304ca9a4e",
   "metadata": {
    "tags": []
   },
   "outputs": [
    {
     "name": "stdout",
     "output_type": "stream",
     "text": [
      "Fetch population size\n"
     ]
    },
    {
     "name": "stderr",
     "output_type": "stream",
     "text": [
      "100%|██████████| 22.0/22 [00:25<00:00,  1.16s/it]\n"
     ]
    },
    {
     "name": "stdout",
     "output_type": "stream",
     "text": [
      "Fetch deaths\n"
     ]
    },
    {
     "name": "stderr",
     "output_type": "stream",
     "text": [
      "100%|██████████| 22.0/22 [00:18<00:00,  1.20it/s]\n"
     ]
    },
    {
     "name": "stdout",
     "output_type": "stream",
     "text": [
      "Fetch birth rate\n"
     ]
    },
    {
     "name": "stderr",
     "output_type": "stream",
     "text": [
      "100%|██████████| 22.0/22 [00:00<00:00, 161885.42it/s]"
     ]
    },
    {
     "name": "stdout",
     "output_type": "stream",
     "text": [
      "Fetch sex ratio at birth\n"
     ]
    },
    {
     "name": "stderr",
     "output_type": "stream",
     "text": [
      "\n",
      "100%|██████████| 22.0/22 [00:00<00:00, 360448.00it/s]\n"
     ]
    }
   ],
   "source": [
    "ext = fetch_wpp(loc='IN', year0=2000, year1=2020)"
   ]
  },
  {
   "cell_type": "code",
   "execution_count": 3,
   "id": "c9077b1d-abce-49ba-8a13-6d196cac190d",
   "metadata": {
    "tags": []
   },
   "outputs": [],
   "source": [
    "demo = reform_pars_age(ext, sex=True, agp='Single', mig=False)"
   ]
  },
  {
   "cell_type": "code",
   "execution_count": 13,
   "id": "5e4f47ce-1e86-447e-b08f-3d82c8ad04aa",
   "metadata": {
    "tags": []
   },
   "outputs": [],
   "source": [
    "model = ModelODE(demo, cohort=True)\n",
    "\n",
    "le = dict()\n",
    "\n",
    "y0 = np.zeros((101, 2))\n",
    "y0[0, 0] = 1\n",
    "ys = solve_ivp(model, [2000, 2200], y0=y0.reshape(-1), dense_output=True)\n",
    "le['F'] = ys.sol(np.linspace(2000, 2200, 201)).sum()\n",
    "\n",
    "y0 = np.zeros((101, 2))\n",
    "y0[0, 1] = 1\n",
    "ys = solve_ivp(model, [2000, 2200], y0=y0.reshape(-1), dense_output=True)\n",
    "le['M'] = ys.sol(np.linspace(2000, 2200, 201)).sum()\n",
    "\n",
    "y0 = np.zeros((101, 2))\n",
    "y0[0] = demo(2000)['r_birth']\n",
    "y0 /= y0.sum()\n",
    "ys = solve_ivp(model, [2000, 2200], y0=y0.reshape(-1), dense_output=True)\n",
    "le['FM'] = ys.sol(np.linspace(2000, 2200, 201)).sum()"
   ]
  },
  {
   "cell_type": "code",
   "execution_count": 14,
   "id": "d5a409a0-752b-476e-991f-b8e170f357e8",
   "metadata": {
    "tags": []
   },
   "outputs": [
    {
     "data": {
      "text/plain": [
       "{'F': 67.86592169807523, 'M': 65.78304563458012, 'FM': 66.77715053978963}"
      ]
     },
     "execution_count": 14,
     "metadata": {},
     "output_type": "execute_result"
    }
   ],
   "source": [
    "le"
   ]
  }
 ],
 "metadata": {
  "kernelspec": {
   "display_name": "Python 3 (ipykernel)",
   "language": "python",
   "name": "python3"
  },
  "language_info": {
   "codemirror_mode": {
    "name": "ipython",
    "version": 3
   },
   "file_extension": ".py",
   "mimetype": "text/x-python",
   "name": "python",
   "nbconvert_exporter": "python",
   "pygments_lexer": "ipython3",
   "version": "3.10.9"
  }
 },
 "nbformat": 4,
 "nbformat_minor": 5
}
