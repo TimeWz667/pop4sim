{
 "cells": [
  {
   "cell_type": "code",
   "execution_count": 1,
   "id": "7bad09be-1411-4377-aac4-19a405304040",
   "metadata": {
    "tags": []
   },
   "outputs": [],
   "source": [
    "from pop4sim import fetch_wpp, Demography, RawData, ModelODE, reform_pars_all\n",
    "from pop4sim.model.dy import ModelODE\n",
    "from pop4sim.utils import *\n",
    "import numpy as np\n",
    "from scipy.interpolate import interp1d\n",
    "from scipy.integrate import solve_ivp\n",
    "from scipy.optimize import minimize_scalar\n",
    "import matplotlib.pyplot as plt\n",
    "from tqdm import tqdm"
   ]
  },
  {
   "cell_type": "code",
   "execution_count": 2,
   "id": "d901ecf4-334b-4e8e-b4b1-1c2304ca9a4e",
   "metadata": {
    "tags": []
   },
   "outputs": [
    {
     "name": "stdout",
     "output_type": "stream",
     "text": [
      "Fetch population size\n",
      "Fetch deaths\n",
      "Fetch birth rate\n",
      "Fetch sex ratio at birth\n"
     ]
    }
   ],
   "source": [
    "ext = fetch_wpp(loc='ZA', year0=2000, year1=2015)"
   ]
  },
  {
   "cell_type": "code",
   "execution_count": 9,
   "id": "c9077b1d-abce-49ba-8a13-6d196cac190d",
   "metadata": {
    "tags": []
   },
   "outputs": [],
   "source": [
    "demo = reform_pars_all(ext, mig=True)"
   ]
  },
  {
   "cell_type": "code",
   "execution_count": 10,
   "id": "78fa413a-e513-4869-b4fe-7a2afde22baf",
   "metadata": {
    "tags": []
   },
   "outputs": [],
   "source": [
    "import pickle as pkl"
   ]
  },
  {
   "cell_type": "code",
   "execution_count": 11,
   "id": "2849e8dd-17bc-4b9f-ae0a-0a7984f33748",
   "metadata": {
    "tags": []
   },
   "outputs": [],
   "source": [
    "demo_pkl = pkl.dumps(demo)"
   ]
  },
  {
   "cell_type": "code",
   "execution_count": 12,
   "id": "83f59329-c1ea-482e-bf06-06fb82e4f86a",
   "metadata": {
    "tags": []
   },
   "outputs": [],
   "source": [
    "demo_re = pkl.loads(demo_pkl)"
   ]
  },
  {
   "cell_type": "code",
   "execution_count": 13,
   "id": "1c123d0f-3241-43e0-957a-4942c4cece64",
   "metadata": {
    "tags": []
   },
   "outputs": [
    {
     "data": {
      "text/plain": [
       "{'N': array(49254503.5),\n",
       " 'r_birth': array(0.022184),\n",
       " 'r_ageing': array(0.),\n",
       " 'r_death': array(0.01320387),\n",
       " 'r_mig': array(0.0007361)}"
      ]
     },
     "execution_count": 13,
     "metadata": {},
     "output_type": "execute_result"
    }
   ],
   "source": [
    "demo_re(2006)"
   ]
  }
 ],
 "metadata": {
  "kernelspec": {
   "display_name": "Python 3 (ipykernel)",
   "language": "python",
   "name": "python3"
  },
  "language_info": {
   "codemirror_mode": {
    "name": "ipython",
    "version": 3
   },
   "file_extension": ".py",
   "mimetype": "text/x-python",
   "name": "python",
   "nbconvert_exporter": "python",
   "pygments_lexer": "ipython3",
   "version": "3.10.9"
  }
 },
 "nbformat": 4,
 "nbformat_minor": 5
}
