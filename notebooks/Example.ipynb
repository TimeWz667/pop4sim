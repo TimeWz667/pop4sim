{
 "cells": [
  {
   "cell_type": "code",
   "execution_count": 11,
   "id": "0601c5bb-8a97-443f-b4d3-91e3d3229f57",
   "metadata": {
    "tags": []
   },
   "outputs": [],
   "source": [
    "from pop4sim import fetch_wpp\n",
    "import numpy as np"
   ]
  },
  {
   "cell_type": "code",
   "execution_count": null,
   "id": "fa9d995e-ab46-4b14-a281-519995514ba3",
   "metadata": {
    "tags": []
   },
   "outputs": [],
   "source": []
  },
  {
   "cell_type": "code",
   "execution_count": 2,
   "id": "11f6d7a1-3533-43e4-9ab4-2a94a7a273ed",
   "metadata": {
    "tags": []
   },
   "outputs": [
    {
     "name": "stdout",
     "output_type": "stream",
     "text": [
      "Fetch population size\n",
      "Fetch deaths\n",
      "Fetch birth rate\n",
      "Fetch sex ratio at birth\n"
     ]
    }
   ],
   "source": [
    "ext = fetch_wpp(loc='VN', year0=2000, year1=2010)\n"
   ]
  },
  {
   "cell_type": "code",
   "execution_count": 4,
   "id": "fc83900f-387c-49d7-9392-8ee6fd3e9e5f",
   "metadata": {
    "tags": []
   },
   "outputs": [],
   "source": [
    "nf0, nfm, nf1 = ext['N_F_0'], ext['N_F_m'], ext['N_F_1'] \n",
    "nm0, nmm, nm1 = ext['N_M_0'], ext['N_M_m'], ext['N_M_1']\n",
    "n0, nm, n1 = nf0 + nm0, nfm + nmm, nf1 + nm1\n"
   ]
  },
  {
   "cell_type": "code",
   "execution_count": 9,
   "id": "c3d95716-3825-481b-a9e8-e6c34b9ed19d",
   "metadata": {
    "tags": []
   },
   "outputs": [],
   "source": [
    "n_all_0, n_all_m, n_all_1 = n0.sum(1), nm.sum(1), n1.sum(1)"
   ]
  },
  {
   "cell_type": "code",
   "execution_count": 20,
   "id": "6cd0c8f4-bc5b-4c18-b85d-ecef615e7c19",
   "metadata": {
    "tags": []
   },
   "outputs": [
    {
     "data": {
      "text/plain": [
       "array([-1.56127300e-03, -1.91291325e-03, -2.05524593e-03, -1.82006272e-03,\n",
       "       -1.89944116e-03, -1.72840340e-03, -1.41486192e-03, -1.39540569e-03,\n",
       "       -1.02315123e-03, -4.12874587e-04, -3.76761311e-05])"
      ]
     },
     "execution_count": 20,
     "metadata": {},
     "output_type": "execute_result"
    }
   ],
   "source": [
    "gr = np.log(n_all_1) - np.log(n_all_0)\n",
    "mig = gr - ext['BirR_F'] - ext['BirR_M'] + (ext['DeaR_F'] * nfm + ext['DeaR_M'] * nmm).sum(1) / nm.sum(1)"
   ]
  },
  {
   "cell_type": "code",
   "execution_count": 19,
   "id": "78ec9919-d34f-4904-b11e-550cd4f70d5a",
   "metadata": {
    "tags": []
   },
   "outputs": [
    {
     "data": {
      "text/plain": [
       "array([0.00576079, 0.00577561, 0.00580668, 0.00581707, 0.00584061,\n",
       "       0.00586979, 0.00593063, 0.00597106, 0.00607039, 0.00611799,\n",
       "       0.00619369])"
      ]
     },
     "execution_count": 19,
     "metadata": {},
     "output_type": "execute_result"
    }
   ],
   "source": [
    "(ext['DeaR_F'] * nfm + ext['DeaR_M'] * nmm).sum(1) / nm.sum(1)"
   ]
  }
 ],
 "metadata": {
  "kernelspec": {
   "display_name": "Python 3 (ipykernel)",
   "language": "python",
   "name": "python3"
  },
  "language_info": {
   "codemirror_mode": {
    "name": "ipython",
    "version": 3
   },
   "file_extension": ".py",
   "mimetype": "text/x-python",
   "name": "python",
   "nbconvert_exporter": "python",
   "pygments_lexer": "ipython3",
   "version": "3.10.9"
  }
 },
 "nbformat": 4,
 "nbformat_minor": 5
}
